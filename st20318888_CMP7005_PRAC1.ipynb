{
  "cells": [
    {
      "cell_type": "code",
      "execution_count": 1,
      "metadata": {
        "colab": {
          "base_uri": "https://localhost:8080/"
        },
        "id": "Fo3p8pP_zj_U",
        "outputId": "3a9e783a-2260-4db9-ad2b-3aad009df4c8"
      },
      "outputs": [
        {
          "output_type": "stream",
          "name": "stdout",
          "text": [
            "Requirement already satisfied: streamlit in /usr/local/lib/python3.11/dist-packages (1.45.0)\n",
            "Requirement already satisfied: altair<6,>=4.0 in /usr/local/lib/python3.11/dist-packages (from streamlit) (5.5.0)\n",
            "Requirement already satisfied: blinker<2,>=1.5.0 in /usr/local/lib/python3.11/dist-packages (from streamlit) (1.9.0)\n",
            "Requirement already satisfied: cachetools<6,>=4.0 in /usr/local/lib/python3.11/dist-packages (from streamlit) (5.5.2)\n",
            "Requirement already satisfied: click<9,>=7.0 in /usr/local/lib/python3.11/dist-packages (from streamlit) (8.1.8)\n",
            "Requirement already satisfied: numpy<3,>=1.23 in /usr/local/lib/python3.11/dist-packages (from streamlit) (2.0.2)\n",
            "Requirement already satisfied: packaging<25,>=20 in /usr/local/lib/python3.11/dist-packages (from streamlit) (24.2)\n",
            "Requirement already satisfied: pandas<3,>=1.4.0 in /usr/local/lib/python3.11/dist-packages (from streamlit) (2.2.2)\n",
            "Requirement already satisfied: pillow<12,>=7.1.0 in /usr/local/lib/python3.11/dist-packages (from streamlit) (11.2.1)\n",
            "Requirement already satisfied: protobuf<7,>=3.20 in /usr/local/lib/python3.11/dist-packages (from streamlit) (5.29.4)\n",
            "Requirement already satisfied: pyarrow>=7.0 in /usr/local/lib/python3.11/dist-packages (from streamlit) (18.1.0)\n",
            "Requirement already satisfied: requests<3,>=2.27 in /usr/local/lib/python3.11/dist-packages (from streamlit) (2.32.3)\n",
            "Requirement already satisfied: tenacity<10,>=8.1.0 in /usr/local/lib/python3.11/dist-packages (from streamlit) (9.1.2)\n",
            "Requirement already satisfied: toml<2,>=0.10.1 in /usr/local/lib/python3.11/dist-packages (from streamlit) (0.10.2)\n",
            "Requirement already satisfied: typing-extensions<5,>=4.4.0 in /usr/local/lib/python3.11/dist-packages (from streamlit) (4.13.2)\n",
            "Requirement already satisfied: watchdog<7,>=2.1.5 in /usr/local/lib/python3.11/dist-packages (from streamlit) (6.0.0)\n",
            "Requirement already satisfied: gitpython!=3.1.19,<4,>=3.0.7 in /usr/local/lib/python3.11/dist-packages (from streamlit) (3.1.44)\n",
            "Requirement already satisfied: pydeck<1,>=0.8.0b4 in /usr/local/lib/python3.11/dist-packages (from streamlit) (0.9.1)\n",
            "Requirement already satisfied: tornado<7,>=6.0.3 in /usr/local/lib/python3.11/dist-packages (from streamlit) (6.4.2)\n",
            "Requirement already satisfied: jinja2 in /usr/local/lib/python3.11/dist-packages (from altair<6,>=4.0->streamlit) (3.1.6)\n",
            "Requirement already satisfied: jsonschema>=3.0 in /usr/local/lib/python3.11/dist-packages (from altair<6,>=4.0->streamlit) (4.23.0)\n",
            "Requirement already satisfied: narwhals>=1.14.2 in /usr/local/lib/python3.11/dist-packages (from altair<6,>=4.0->streamlit) (1.37.1)\n",
            "Requirement already satisfied: gitdb<5,>=4.0.1 in /usr/local/lib/python3.11/dist-packages (from gitpython!=3.1.19,<4,>=3.0.7->streamlit) (4.0.12)\n",
            "Requirement already satisfied: python-dateutil>=2.8.2 in /usr/local/lib/python3.11/dist-packages (from pandas<3,>=1.4.0->streamlit) (2.9.0.post0)\n",
            "Requirement already satisfied: pytz>=2020.1 in /usr/local/lib/python3.11/dist-packages (from pandas<3,>=1.4.0->streamlit) (2025.2)\n",
            "Requirement already satisfied: tzdata>=2022.7 in /usr/local/lib/python3.11/dist-packages (from pandas<3,>=1.4.0->streamlit) (2025.2)\n",
            "Requirement already satisfied: charset-normalizer<4,>=2 in /usr/local/lib/python3.11/dist-packages (from requests<3,>=2.27->streamlit) (3.4.1)\n",
            "Requirement already satisfied: idna<4,>=2.5 in /usr/local/lib/python3.11/dist-packages (from requests<3,>=2.27->streamlit) (3.10)\n",
            "Requirement already satisfied: urllib3<3,>=1.21.1 in /usr/local/lib/python3.11/dist-packages (from requests<3,>=2.27->streamlit) (2.4.0)\n",
            "Requirement already satisfied: certifi>=2017.4.17 in /usr/local/lib/python3.11/dist-packages (from requests<3,>=2.27->streamlit) (2025.4.26)\n",
            "Requirement already satisfied: smmap<6,>=3.0.1 in /usr/local/lib/python3.11/dist-packages (from gitdb<5,>=4.0.1->gitpython!=3.1.19,<4,>=3.0.7->streamlit) (5.0.2)\n",
            "Requirement already satisfied: MarkupSafe>=2.0 in /usr/local/lib/python3.11/dist-packages (from jinja2->altair<6,>=4.0->streamlit) (3.0.2)\n",
            "Requirement already satisfied: attrs>=22.2.0 in /usr/local/lib/python3.11/dist-packages (from jsonschema>=3.0->altair<6,>=4.0->streamlit) (25.3.0)\n",
            "Requirement already satisfied: jsonschema-specifications>=2023.03.6 in /usr/local/lib/python3.11/dist-packages (from jsonschema>=3.0->altair<6,>=4.0->streamlit) (2025.4.1)\n",
            "Requirement already satisfied: referencing>=0.28.4 in /usr/local/lib/python3.11/dist-packages (from jsonschema>=3.0->altair<6,>=4.0->streamlit) (0.36.2)\n",
            "Requirement already satisfied: rpds-py>=0.7.1 in /usr/local/lib/python3.11/dist-packages (from jsonschema>=3.0->altair<6,>=4.0->streamlit) (0.24.0)\n",
            "Requirement already satisfied: six>=1.5 in /usr/local/lib/python3.11/dist-packages (from python-dateutil>=2.8.2->pandas<3,>=1.4.0->streamlit) (1.17.0)\n"
          ]
        }
      ],
      "source": [
        "!pip install streamlit"
      ]
    },
    {
      "cell_type": "code",
      "execution_count": 2,
      "metadata": {
        "colab": {
          "base_uri": "https://localhost:8080/"
        },
        "id": "fdv-eARzzONn",
        "outputId": "2018a3e6-d888-4b6a-e95a-e35b9940292e"
      },
      "outputs": [
        {
          "output_type": "stream",
          "name": "stdout",
          "text": [
            "Overwriting app.py\n"
          ]
        }
      ],
      "source": [
        "\n",
        "\n",
        "%%writefile app.py\n",
        "import streamlit as st\n",
        "import pandas as pd\n",
        "import numpy as np\n",
        "import matplotlib.pyplot as plt\n",
        "import seaborn as sns\n",
        "from sklearn.ensemble import RandomForestRegressor\n",
        "\n",
        "# -----------------------------\n",
        "# Load Data\n",
        "# -----------------------------\n",
        "@st.cache_data\n",
        "def load_data():\n",
        "    df = pd.read_csv(\"combined_output.csv\")\n",
        "    df['datetime'] = pd.to_datetime(df[['year', 'month', 'day', 'hour']])\n",
        "    df['PM2.5'].fillna(df['PM2.5'].median(), inplace=True)\n",
        "    features = ['TEMP', 'PRES', 'DEWP', 'WSPM', 'SO2', 'NO2', 'CO', 'O3']\n",
        "    df[features] = df[features].fillna(df[features].median())\n",
        "    df = df[df['PM2.5'] < 500]\n",
        "    return df\n",
        "\n",
        "df = load_data()\n",
        "# ==========================\n",
        "# 📄 Overview Page\n",
        "# ==========================\n",
        "def show_overview(df):\n",
        "    st.title(\"📄 Dataset Overview\")\n",
        "    st.subheader(\"🧾 Sample Data\")\n",
        "    st.dataframe(df.head(), use_container_width=True)\n",
        "\n",
        "    st.subheader(\"📏 Dataset Shape\")\n",
        "    st.info(f\"✅ {df.shape[0]} Rows & {df.shape[1]} Columns\")\n",
        "\n",
        "    st.subheader(\"❗️ Missing Values\")\n",
        "    missing = df.isnull().sum()\n",
        "    st.bar_chart(missing[missing > 0])\n",
        "\n",
        "# -----------------------------\n",
        "# Train the model\n",
        "# -----------------------------\n",
        "features = ['TEMP', 'PRES', 'DEWP', 'WSPM', 'SO2', 'NO2', 'CO', 'O3']\n",
        "X = df[features]\n",
        "y = df['PM2.5']\n",
        "model = RandomForestRegressor(n_estimators=100, random_state=42)\n",
        "model.fit(X, y)\n",
        "\n",
        "# -----------------------------\n",
        "# App Layout\n",
        "# -----------------------------\n",
        "st.title(\"🌫️ PM2.5 Predictor & Air Quality Visual Dashboard\")\n",
        "st.markdown(\"**📍 Use sliders to predict PM2.5 and explore trends with charts.**\")\n",
        "\n",
        "# -----------------------------\n",
        "# User Input\n",
        "# -----------------------------\n",
        "st.sidebar.header(\"🧪 Input Values\")\n",
        "\n",
        "temp = st.sidebar.slider(\"Temperature (°C)\", -8.0, 50.0, 20.0)\n",
        "pres = st.sidebar.slider(\"Pressure (hPa)\", 980.0, 1040.0, 1010.0)\n",
        "dewp = st.sidebar.slider(\"Dew Point\", -40.0, 30.0, 5.0)\n",
        "wspm = st.sidebar.slider(\"Wind Speed\", 0.0, 10.0, 2.0)\n",
        "so2 = st.sidebar.slider(\"SO₂\", 0.0, 100.0, 10.0)\n",
        "no2 = st.sidebar.slider(\"NO₂\", 0.0, 150.0, 30.0)\n",
        "co = st.sidebar.slider(\"CO\", 0.0, 5000.0, 900.0)\n",
        "o3 = st.sidebar.slider(\"O₃\", 0.0, 300.0, 50.0)\n",
        "\n",
        "input_data = np.array([[temp, pres, dewp, wspm, so2, no2, co, o3]])\n",
        "predicted_pm25 = model.predict(input_data)[0]\n",
        "\n",
        "# -----------------------------\n",
        "# Prediction Output\n",
        "# -----------------------------\n",
        "st.subheader(\"🔮 Predicted PM2.5 Level:\")\n",
        "st.success(f\"{predicted_pm25:.2f} µg/m³\")\n",
        "\n",
        "# -----------------------------\n",
        "# 📊 Section: Charts & Visuals\n",
        "# -----------------------------\n",
        "st.header(\"📈 Data Visualisations\")\n",
        "\n",
        "# Line Chart – Monthly PM2.5 Trend\n",
        "st.markdown(\"### 📅 Monthly PM2.5 Trend\")\n",
        "df.set_index(\"datetime\", inplace=True)\n",
        "monthly_pm = df['PM2.5'].resample('M').mean()\n",
        "\n",
        "st.line_chart(monthly_pm)\n",
        "\n",
        "# Histogram\n",
        "st.markdown(\"### 📊 PM2.5 Distribution Histogram\")\n",
        "fig1, ax1 = plt.subplots()\n",
        "sns.histplot(df['PM2.5'], bins=50, kde=True, ax=ax1, color='skyblue')\n",
        "plt.xlabel(\"PM2.5 (µg/m³)\")\n",
        "plt.ylabel(\"Frequency\")\n",
        "plt.title(\"Distribution of PM2.5\")\n",
        "st.pyplot(fig1)\n",
        "\n",
        "# Heatmap\n",
        "st.markdown(\"### 🔥 Correlation Heatmap\")\n",
        "fig2, ax2 = plt.subplots(figsize=(10, 8))\n",
        "sns.heatmap(df[features + ['PM2.5']].corr(), annot=True, fmt=\".2f\", cmap='coolwarm', ax=ax2)\n",
        "plt.title(\"Correlation Matrix\")\n",
        "st.pyplot(fig2)\n",
        "#ddddddddddddddfdfdddddddddddddddd\n",
        "\n",
        "st.title(\"EDA\")\n",
        "\n",
        "\n",
        "st.header(\"Correlation Heatmap\")\n",
        "fig2, ax2 = plt.subplots(figsize=(10, 6))\n",
        "selected_cols = ['PM2.5', 'PM10', 'SO2', 'NO2', 'CO', 'O3', 'TEMP', 'PRES', 'DEWP', 'WSPM']\n",
        "corr = df[selected_cols].corr()\n",
        "sns.heatmap(corr, annot=True, cmap=\"YlOrRd\", ax=ax2, linewidths=0.5)\n",
        "st.pyplot(fig2)\n",
        "\n",
        "st.header(\"Trend of PM2.5\")\n",
        "df[\"date\"] = pd.to_datetime(df.index, errors='coerce')\n",
        "df = df.set_index(\"date\")\n",
        "monthly_avg = df[\"PM2.5\"].resample(\"M\").mean()\n",
        "fig3, ax3 = plt.subplots(figsize=(10, 4))\n",
        "monthly_avg.plot(ax=ax3, color=\"pink\", marker=\"o\", linestyle=\"--\")\n",
        "ax3.set_title(\"Monthly Average PM2.5 (µg/m³)\", fontsize=14)\n",
        "ax3.set_ylabel(\"PM2.5 (µg/m³)\")\n",
        "st.pyplot(fig3)\n",
        "\n",
        "st.header(\"Dynamic Pollutant Trends\")\n",
        "pollutant = st.selectbox(\"Select a pollutant to visualize its trend\", selected_cols[1:])\n",
        "if pollutant:\n",
        "    fig4, ax4 = plt.subplots(figsize=(10, 4))\n",
        "    df[pollutant].resample(\"M\").mean().plot(ax=ax4, color=\"teal\", linestyle=\"-\", marker=\".\")\n",
        "    ax4.set_title(f\"Monthly Average {pollutant}\", fontsize=14)\n",
        "    ax4.set_ylabel(f\"{pollutant} (µg/m³ or mg/m³)\")\n",
        "    st.pyplot(fig4)\n",
        "\n",
        "\n",
        "\n"
      ]
    },
    {
      "cell_type": "code",
      "execution_count": 3,
      "metadata": {
        "colab": {
          "base_uri": "https://localhost:8080/"
        },
        "id": "ciHibe71zsHx",
        "outputId": "eafe1208-1528-4d26-85b1-369a1cf340ee"
      },
      "outputs": [
        {
          "output_type": "stream",
          "name": "stdout",
          "text": [
            "34.48.151.15\n"
          ]
        }
      ],
      "source": [
        "!wget -q -O - ipv4.icanhazip.com"
      ]
    },
    {
      "cell_type": "code",
      "execution_count": null,
      "metadata": {
        "colab": {
          "base_uri": "https://localhost:8080/"
        },
        "id": "r-Jj6FyXzx_i",
        "outputId": "d68d7324-3c65-45ab-d144-099f6568c117"
      },
      "outputs": [
        {
          "output_type": "stream",
          "name": "stdout",
          "text": [
            "\n",
            "Collecting usage statistics. To deactivate, set browser.gatherUsageStats to false.\n",
            "\u001b[0m\n",
            "\u001b[1G\u001b[0K⠙\u001b[1G\u001b[0K⠹\u001b[1G\u001b[0K⠸\u001b[0m\n",
            "\u001b[34m\u001b[1m  You can now view your Streamlit app in your browser.\u001b[0m\n",
            "\u001b[0m\n",
            "\u001b[34m  Local URL: \u001b[0m\u001b[1mhttp://localhost:8501\u001b[0m\n",
            "\u001b[34m  Network URL: \u001b[0m\u001b[1mhttp://172.28.0.12:8501\u001b[0m\n",
            "\u001b[34m  External URL: \u001b[0m\u001b[1mhttp://34.48.151.15:8501\u001b[0m\n",
            "\u001b[0m\n",
            "\u001b[1G\u001b[0K⠼\u001b[1G\u001b[0K⠴\u001b[1G\u001b[0K⠦\u001b[1G\u001b[0K⠧\u001b[1G\u001b[0K⠇\u001b[1G\u001b[0Kyour url is: https://forty-weeks-search.loca.lt\n",
            "/content/app.py:15: FutureWarning: A value is trying to be set on a copy of a DataFrame or Series through chained assignment using an inplace method.\n",
            "The behavior will change in pandas 3.0. This inplace method will never work because the intermediate object on which we are setting values always behaves as a copy.\n",
            "\n",
            "For example, when doing 'df[col].method(value, inplace=True)', try using 'df.method({col: value}, inplace=True)' or df[col] = df[col].method(value) instead, to perform the operation inplace on the original object.\n",
            "\n",
            "\n",
            "  df['PM2.5'].fillna(df['PM2.5'].median(), inplace=True)\n",
            "/usr/local/lib/python3.11/dist-packages/sklearn/utils/validation.py:2739: UserWarning: X does not have valid feature names, but RandomForestRegressor was fitted with feature names\n",
            "  warnings.warn(\n",
            "/content/app.py:83: FutureWarning: 'M' is deprecated and will be removed in a future version, please use 'ME' instead.\n",
            "  monthly_pm = df['PM2.5'].resample('M').mean()\n",
            "/content/app.py:117: FutureWarning: 'M' is deprecated and will be removed in a future version, please use 'ME' instead.\n",
            "  monthly_avg = df[\"PM2.5\"].resample(\"M\").mean()\n",
            "/content/app.py:128: FutureWarning: 'M' is deprecated and will be removed in a future version, please use 'ME' instead.\n",
            "  df[pollutant].resample(\"M\").mean().plot(ax=ax4, color=\"teal\", linestyle=\"-\", marker=\".\")\n"
          ]
        }
      ],
      "source": [
        "\n",
        "!streamlit run app.py & npx localtunnel --port 8501"
      ]
    }
  ],
  "metadata": {
    "colab": {
      "provenance": []
    },
    "kernelspec": {
      "display_name": "Python 3",
      "name": "python3"
    },
    "language_info": {
      "name": "python"
    }
  },
  "nbformat": 4,
  "nbformat_minor": 0
}